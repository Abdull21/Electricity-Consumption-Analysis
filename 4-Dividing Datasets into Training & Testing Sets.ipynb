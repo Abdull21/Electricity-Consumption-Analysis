{
 "cells": [
  {
   "cell_type": "code",
   "execution_count": 1,
   "metadata": {},
   "outputs": [],
   "source": [
    "import pandas as pd\n",
    "from sklearn.model_selection import train_test_split"
   ]
  },
  {
   "cell_type": "code",
   "execution_count": 2,
   "metadata": {},
   "outputs": [],
   "source": [
    "%store -r moderate_summer_deviation extreme_summer_deviation moderate_winter_deviation extreme_winter_deviation"
   ]
  },
  {
   "cell_type": "code",
   "execution_count": 8,
   "metadata": {},
   "outputs": [
    {
     "name": "stdout",
     "output_type": "stream",
     "text": [
      "Stored 'moderate_summer_temp_train' (DataFrame)\n",
      "Stored 'moderate_summer_temp_test' (DataFrame)\n",
      "Stored 'moderate_summer_consum_train' (DataFrame)\n",
      "Stored 'moderate_summer_consum_test' (DataFrame)\n"
     ]
    }
   ],
   "source": [
    "moderate_summer_temp_train, moderate_summer_temp_test, moderate_summer_consum_train, moderate_summer_consum_test = train_test_split(\n",
    "...    moderate_summer_deviation[['tmp_deviation', 'month', 'temp2017']] , moderate_summer_deviation[['consumption_label']], test_size=0.2, random_state=42)\n",
    "%store moderate_summer_temp_train moderate_summer_temp_test moderate_summer_consum_train moderate_summer_consum_test"
   ]
  },
  {
   "cell_type": "code",
   "execution_count": 10,
   "metadata": {},
   "outputs": [
    {
     "name": "stdout",
     "output_type": "stream",
     "text": [
      "Stored 'extreme_summer_temp_train' (DataFrame)\n",
      "Stored 'extreme_summer_temp_test' (DataFrame)\n",
      "Stored 'extreme_summer_consum_train' (DataFrame)\n",
      "Stored 'extreme_summer_consum_test' (DataFrame)\n"
     ]
    }
   ],
   "source": [
    "extreme_summer_temp_train, extreme_summer_temp_test, extreme_summer_consum_train, extreme_summer_consum_test = train_test_split(\n",
    "...    extreme_summer_deviation[['tmp_deviation', 'month', 'weekday', 'temp2017']] , extreme_summer_deviation[['consumption_label']], test_size=0.2, random_state=42)\n",
    "%store extreme_summer_temp_train extreme_summer_temp_test extreme_summer_consum_train extreme_summer_consum_test"
   ]
  },
  {
   "cell_type": "code",
   "execution_count": 14,
   "metadata": {},
   "outputs": [
    {
     "name": "stdout",
     "output_type": "stream",
     "text": [
      "Stored 'extreme_winter_temp_train' (DataFrame)\n",
      "Stored 'extreme_winter_temp_test' (DataFrame)\n",
      "Stored 'extreme_winter_consum_train' (DataFrame)\n",
      "Stored 'extreme_winter_consum_test' (DataFrame)\n"
     ]
    }
   ],
   "source": [
    "extreme_winter_temp_train, extreme_winter_temp_test, extreme_winter_consum_train, extreme_winter_consum_test = train_test_split(\n",
    "...    extreme_winter_deviation[['tmp_deviation']] , extreme_winter_deviation[['consumption_label']], test_size=0.2, random_state=42)\n",
    "%store extreme_winter_temp_train extreme_winter_temp_test extreme_winter_consum_train extreme_winter_consum_test"
   ]
  },
  {
   "cell_type": "code",
   "execution_count": 21,
   "metadata": {},
   "outputs": [
    {
     "name": "stdout",
     "output_type": "stream",
     "text": [
      "Stored 'moderate_winter_temp_train' (DataFrame)\n",
      "Stored 'moderate_winter_temp_test' (DataFrame)\n",
      "Stored 'moderate_winter_consum_train' (DataFrame)\n",
      "Stored 'moderate_winter_consum_test' (DataFrame)\n"
     ]
    }
   ],
   "source": [
    "moderate_winter_temp_train, moderate_winter_temp_test, moderate_winter_consum_train, moderate_winter_consum_test = train_test_split(\n",
    "...    moderate_winter_deviation[['tmp_deviation']] , moderate_winter_deviation[['consumption_label']], test_size=0.2, random_state=42)\n",
    "%store moderate_winter_temp_train moderate_winter_temp_test moderate_winter_consum_train moderate_winter_consum_test"
   ]
  },
  {
   "cell_type": "code",
   "execution_count": null,
   "metadata": {},
   "outputs": [],
   "source": []
  }
 ],
 "metadata": {
  "kernelspec": {
   "display_name": "Python 3",
   "language": "python",
   "name": "python3"
  },
  "language_info": {
   "codemirror_mode": {
    "name": "ipython",
    "version": 3
   },
   "file_extension": ".py",
   "mimetype": "text/x-python",
   "name": "python",
   "nbconvert_exporter": "python",
   "pygments_lexer": "ipython3",
   "version": "3.7.4"
  }
 },
 "nbformat": 4,
 "nbformat_minor": 4
}
