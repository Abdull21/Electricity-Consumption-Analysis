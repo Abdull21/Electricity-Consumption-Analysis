{
 "cells": [
  {
   "cell_type": "code",
   "execution_count": 1,
   "metadata": {},
   "outputs": [],
   "source": [
    "import numpy as np\n",
    "import pandas as pd\n",
    "import matplotlib.pyplot as plt\n",
    "\n",
    "%matplotlib inline"
   ]
  },
  {
   "cell_type": "code",
   "execution_count": 2,
   "metadata": {},
   "outputs": [],
   "source": [
    "%store -r daily_consumption_deviation temp_deviation"
   ]
  },
  {
   "cell_type": "code",
   "execution_count": 3,
   "metadata": {},
   "outputs": [
    {
     "data": {
      "text/html": [
       "<div>\n",
       "<style scoped>\n",
       "    .dataframe tbody tr th:only-of-type {\n",
       "        vertical-align: middle;\n",
       "    }\n",
       "\n",
       "    .dataframe tbody tr th {\n",
       "        vertical-align: top;\n",
       "    }\n",
       "\n",
       "    .dataframe thead th {\n",
       "        text-align: right;\n",
       "    }\n",
       "</style>\n",
       "<table border=\"1\" class=\"dataframe\">\n",
       "  <thead>\n",
       "    <tr style=\"text-align: right;\">\n",
       "      <th></th>\n",
       "      <th>timestamp</th>\n",
       "      <th>consumption_deviation</th>\n",
       "      <th>month-day</th>\n",
       "    </tr>\n",
       "  </thead>\n",
       "  <tbody>\n",
       "    <tr>\n",
       "      <th>0</th>\n",
       "      <td>2017-01-01</td>\n",
       "      <td>-25.521</td>\n",
       "      <td>01-01</td>\n",
       "    </tr>\n",
       "    <tr>\n",
       "      <th>1</th>\n",
       "      <td>2017-01-02</td>\n",
       "      <td>39.706</td>\n",
       "      <td>01-02</td>\n",
       "    </tr>\n",
       "    <tr>\n",
       "      <th>2</th>\n",
       "      <td>2017-01-03</td>\n",
       "      <td>-29.565</td>\n",
       "      <td>01-03</td>\n",
       "    </tr>\n",
       "    <tr>\n",
       "      <th>3</th>\n",
       "      <td>2017-01-04</td>\n",
       "      <td>-61.049</td>\n",
       "      <td>01-04</td>\n",
       "    </tr>\n",
       "    <tr>\n",
       "      <th>4</th>\n",
       "      <td>2017-01-05</td>\n",
       "      <td>2.193</td>\n",
       "      <td>01-05</td>\n",
       "    </tr>\n",
       "  </tbody>\n",
       "</table>\n",
       "</div>"
      ],
      "text/plain": [
       "   timestamp  consumption_deviation month-day\n",
       "0 2017-01-01                -25.521     01-01\n",
       "1 2017-01-02                 39.706     01-02\n",
       "2 2017-01-03                -29.565     01-03\n",
       "3 2017-01-04                -61.049     01-04\n",
       "4 2017-01-05                  2.193     01-05"
      ]
     },
     "execution_count": 3,
     "metadata": {},
     "output_type": "execute_result"
    }
   ],
   "source": [
    "daily_consumption_deviation.head()"
   ]
  },
  {
   "cell_type": "code",
   "execution_count": 4,
   "metadata": {},
   "outputs": [
    {
     "name": "stdout",
     "output_type": "stream",
     "text": [
      "<class 'pandas.core.frame.DataFrame'>\n",
      "RangeIndex: 365 entries, 0 to 364\n",
      "Data columns (total 3 columns):\n",
      "timestamp                365 non-null datetime64[ns]\n",
      "consumption_deviation    365 non-null float64\n",
      "month-day                365 non-null object\n",
      "dtypes: datetime64[ns](1), float64(1), object(1)\n",
      "memory usage: 8.7+ KB\n"
     ]
    }
   ],
   "source": [
    "daily_consumption_deviation.info()"
   ]
  },
  {
   "cell_type": "code",
   "execution_count": 5,
   "metadata": {},
   "outputs": [
    {
     "data": {
      "text/html": [
       "<div>\n",
       "<style scoped>\n",
       "    .dataframe tbody tr th:only-of-type {\n",
       "        vertical-align: middle;\n",
       "    }\n",
       "\n",
       "    .dataframe tbody tr th {\n",
       "        vertical-align: top;\n",
       "    }\n",
       "\n",
       "    .dataframe thead th {\n",
       "        text-align: right;\n",
       "    }\n",
       "</style>\n",
       "<table border=\"1\" class=\"dataframe\">\n",
       "  <thead>\n",
       "    <tr style=\"text-align: right;\">\n",
       "      <th></th>\n",
       "      <th>timestamp</th>\n",
       "      <th>temp2017</th>\n",
       "      <th>month-day</th>\n",
       "      <th>avg_tmp</th>\n",
       "      <th>tmp_deviation</th>\n",
       "    </tr>\n",
       "  </thead>\n",
       "  <tbody>\n",
       "    <tr>\n",
       "      <th>0</th>\n",
       "      <td>2017-01-01</td>\n",
       "      <td>29.014634</td>\n",
       "      <td>01-01</td>\n",
       "      <td>41.215905</td>\n",
       "      <td>-12.201271</td>\n",
       "    </tr>\n",
       "    <tr>\n",
       "      <th>1</th>\n",
       "      <td>2017-01-02</td>\n",
       "      <td>34.550000</td>\n",
       "      <td>01-02</td>\n",
       "      <td>40.504165</td>\n",
       "      <td>-5.954165</td>\n",
       "    </tr>\n",
       "    <tr>\n",
       "      <th>2</th>\n",
       "      <td>2017-01-03</td>\n",
       "      <td>32.521053</td>\n",
       "      <td>01-03</td>\n",
       "      <td>41.480984</td>\n",
       "      <td>-8.959931</td>\n",
       "    </tr>\n",
       "    <tr>\n",
       "      <th>3</th>\n",
       "      <td>2017-01-04</td>\n",
       "      <td>39.429787</td>\n",
       "      <td>01-04</td>\n",
       "      <td>40.857500</td>\n",
       "      <td>-1.427713</td>\n",
       "    </tr>\n",
       "    <tr>\n",
       "      <th>4</th>\n",
       "      <td>2017-01-05</td>\n",
       "      <td>37.154545</td>\n",
       "      <td>01-05</td>\n",
       "      <td>41.115435</td>\n",
       "      <td>-3.960889</td>\n",
       "    </tr>\n",
       "  </tbody>\n",
       "</table>\n",
       "</div>"
      ],
      "text/plain": [
       "   timestamp   temp2017 month-day    avg_tmp  tmp_deviation\n",
       "0 2017-01-01  29.014634     01-01  41.215905     -12.201271\n",
       "1 2017-01-02  34.550000     01-02  40.504165      -5.954165\n",
       "2 2017-01-03  32.521053     01-03  41.480984      -8.959931\n",
       "3 2017-01-04  39.429787     01-04  40.857500      -1.427713\n",
       "4 2017-01-05  37.154545     01-05  41.115435      -3.960889"
      ]
     },
     "execution_count": 5,
     "metadata": {},
     "output_type": "execute_result"
    }
   ],
   "source": [
    "temp_deviation.head()"
   ]
  },
  {
   "cell_type": "code",
   "execution_count": 6,
   "metadata": {},
   "outputs": [],
   "source": [
    "all_data_set = pd.merge(temp_deviation, daily_consumption_deviation, on='timestamp', how='inner')"
   ]
  },
  {
   "cell_type": "code",
   "execution_count": 7,
   "metadata": {},
   "outputs": [
    {
     "data": {
      "text/html": [
       "<div>\n",
       "<style scoped>\n",
       "    .dataframe tbody tr th:only-of-type {\n",
       "        vertical-align: middle;\n",
       "    }\n",
       "\n",
       "    .dataframe tbody tr th {\n",
       "        vertical-align: top;\n",
       "    }\n",
       "\n",
       "    .dataframe thead th {\n",
       "        text-align: right;\n",
       "    }\n",
       "</style>\n",
       "<table border=\"1\" class=\"dataframe\">\n",
       "  <thead>\n",
       "    <tr style=\"text-align: right;\">\n",
       "      <th></th>\n",
       "      <th>timestamp</th>\n",
       "      <th>temp2017</th>\n",
       "      <th>month-day_x</th>\n",
       "      <th>avg_tmp</th>\n",
       "      <th>tmp_deviation</th>\n",
       "      <th>consumption_deviation</th>\n",
       "      <th>month-day_y</th>\n",
       "      <th>month</th>\n",
       "      <th>day</th>\n",
       "      <th>weekday</th>\n",
       "    </tr>\n",
       "  </thead>\n",
       "  <tbody>\n",
       "    <tr>\n",
       "      <th>0</th>\n",
       "      <td>2017-01-01</td>\n",
       "      <td>29.014634</td>\n",
       "      <td>01-01</td>\n",
       "      <td>41.215905</td>\n",
       "      <td>-12.201271</td>\n",
       "      <td>-25.521</td>\n",
       "      <td>01-01</td>\n",
       "      <td>01</td>\n",
       "      <td>01</td>\n",
       "      <td>True</td>\n",
       "    </tr>\n",
       "    <tr>\n",
       "      <th>1</th>\n",
       "      <td>2017-01-02</td>\n",
       "      <td>34.550000</td>\n",
       "      <td>01-02</td>\n",
       "      <td>40.504165</td>\n",
       "      <td>-5.954165</td>\n",
       "      <td>39.706</td>\n",
       "      <td>01-02</td>\n",
       "      <td>01</td>\n",
       "      <td>02</td>\n",
       "      <td>False</td>\n",
       "    </tr>\n",
       "    <tr>\n",
       "      <th>2</th>\n",
       "      <td>2017-01-03</td>\n",
       "      <td>32.521053</td>\n",
       "      <td>01-03</td>\n",
       "      <td>41.480984</td>\n",
       "      <td>-8.959931</td>\n",
       "      <td>-29.565</td>\n",
       "      <td>01-03</td>\n",
       "      <td>01</td>\n",
       "      <td>03</td>\n",
       "      <td>False</td>\n",
       "    </tr>\n",
       "    <tr>\n",
       "      <th>3</th>\n",
       "      <td>2017-01-04</td>\n",
       "      <td>39.429787</td>\n",
       "      <td>01-04</td>\n",
       "      <td>40.857500</td>\n",
       "      <td>-1.427713</td>\n",
       "      <td>-61.049</td>\n",
       "      <td>01-04</td>\n",
       "      <td>01</td>\n",
       "      <td>04</td>\n",
       "      <td>False</td>\n",
       "    </tr>\n",
       "    <tr>\n",
       "      <th>4</th>\n",
       "      <td>2017-01-05</td>\n",
       "      <td>37.154545</td>\n",
       "      <td>01-05</td>\n",
       "      <td>41.115435</td>\n",
       "      <td>-3.960889</td>\n",
       "      <td>2.193</td>\n",
       "      <td>01-05</td>\n",
       "      <td>01</td>\n",
       "      <td>05</td>\n",
       "      <td>False</td>\n",
       "    </tr>\n",
       "  </tbody>\n",
       "</table>\n",
       "</div>"
      ],
      "text/plain": [
       "   timestamp   temp2017 month-day_x    avg_tmp  tmp_deviation  \\\n",
       "0 2017-01-01  29.014634       01-01  41.215905     -12.201271   \n",
       "1 2017-01-02  34.550000       01-02  40.504165      -5.954165   \n",
       "2 2017-01-03  32.521053       01-03  41.480984      -8.959931   \n",
       "3 2017-01-04  39.429787       01-04  40.857500      -1.427713   \n",
       "4 2017-01-05  37.154545       01-05  41.115435      -3.960889   \n",
       "\n",
       "   consumption_deviation month-day_y month day  weekday  \n",
       "0                -25.521       01-01    01  01     True  \n",
       "1                 39.706       01-02    01  02    False  \n",
       "2                -29.565       01-03    01  03    False  \n",
       "3                -61.049       01-04    01  04    False  \n",
       "4                  2.193       01-05    01  05    False  "
      ]
     },
     "execution_count": 7,
     "metadata": {},
     "output_type": "execute_result"
    }
   ],
   "source": [
    "all_data_set['month'] = all_data_set['timestamp'].apply( lambda x: x.strftime('%m'))\n",
    "all_data_set['day'] = all_data_set['timestamp'].apply( lambda x: x.strftime('%d'))\n",
    "all_data_set['weekday'] = ((pd.DatetimeIndex(all_data_set.timestamp).dayofweek) // 5 == 1)\n",
    "all_data_set.head()"
   ]
  },
  {
   "cell_type": "code",
   "execution_count": 8,
   "metadata": {},
   "outputs": [
    {
     "data": {
      "text/html": [
       "<div>\n",
       "<style scoped>\n",
       "    .dataframe tbody tr th:only-of-type {\n",
       "        vertical-align: middle;\n",
       "    }\n",
       "\n",
       "    .dataframe tbody tr th {\n",
       "        vertical-align: top;\n",
       "    }\n",
       "\n",
       "    .dataframe thead th {\n",
       "        text-align: right;\n",
       "    }\n",
       "</style>\n",
       "<table border=\"1\" class=\"dataframe\">\n",
       "  <thead>\n",
       "    <tr style=\"text-align: right;\">\n",
       "      <th></th>\n",
       "      <th>timestamp</th>\n",
       "      <th>temp2017</th>\n",
       "      <th>month-day_x</th>\n",
       "      <th>avg_tmp</th>\n",
       "      <th>tmp_deviation</th>\n",
       "      <th>consumption_deviation</th>\n",
       "      <th>month-day_y</th>\n",
       "      <th>month</th>\n",
       "      <th>day</th>\n",
       "      <th>weekday</th>\n",
       "      <th>consumption_label</th>\n",
       "    </tr>\n",
       "  </thead>\n",
       "  <tbody>\n",
       "    <tr>\n",
       "      <th>0</th>\n",
       "      <td>2017-01-01</td>\n",
       "      <td>29.014634</td>\n",
       "      <td>01-01</td>\n",
       "      <td>41.215905</td>\n",
       "      <td>-12.201271</td>\n",
       "      <td>-25.521</td>\n",
       "      <td>01-01</td>\n",
       "      <td>01</td>\n",
       "      <td>01</td>\n",
       "      <td>True</td>\n",
       "      <td>d</td>\n",
       "    </tr>\n",
       "    <tr>\n",
       "      <th>1</th>\n",
       "      <td>2017-01-02</td>\n",
       "      <td>34.550000</td>\n",
       "      <td>01-02</td>\n",
       "      <td>40.504165</td>\n",
       "      <td>-5.954165</td>\n",
       "      <td>39.706</td>\n",
       "      <td>01-02</td>\n",
       "      <td>01</td>\n",
       "      <td>02</td>\n",
       "      <td>False</td>\n",
       "      <td>s</td>\n",
       "    </tr>\n",
       "    <tr>\n",
       "      <th>2</th>\n",
       "      <td>2017-01-03</td>\n",
       "      <td>32.521053</td>\n",
       "      <td>01-03</td>\n",
       "      <td>41.480984</td>\n",
       "      <td>-8.959931</td>\n",
       "      <td>-29.565</td>\n",
       "      <td>01-03</td>\n",
       "      <td>01</td>\n",
       "      <td>03</td>\n",
       "      <td>False</td>\n",
       "      <td>d</td>\n",
       "    </tr>\n",
       "    <tr>\n",
       "      <th>3</th>\n",
       "      <td>2017-01-04</td>\n",
       "      <td>39.429787</td>\n",
       "      <td>01-04</td>\n",
       "      <td>40.857500</td>\n",
       "      <td>-1.427713</td>\n",
       "      <td>-61.049</td>\n",
       "      <td>01-04</td>\n",
       "      <td>01</td>\n",
       "      <td>04</td>\n",
       "      <td>False</td>\n",
       "      <td>d</td>\n",
       "    </tr>\n",
       "    <tr>\n",
       "      <th>4</th>\n",
       "      <td>2017-01-05</td>\n",
       "      <td>37.154545</td>\n",
       "      <td>01-05</td>\n",
       "      <td>41.115435</td>\n",
       "      <td>-3.960889</td>\n",
       "      <td>2.193</td>\n",
       "      <td>01-05</td>\n",
       "      <td>01</td>\n",
       "      <td>05</td>\n",
       "      <td>False</td>\n",
       "      <td>s</td>\n",
       "    </tr>\n",
       "  </tbody>\n",
       "</table>\n",
       "</div>"
      ],
      "text/plain": [
       "   timestamp   temp2017 month-day_x    avg_tmp  tmp_deviation  \\\n",
       "0 2017-01-01  29.014634       01-01  41.215905     -12.201271   \n",
       "1 2017-01-02  34.550000       01-02  40.504165      -5.954165   \n",
       "2 2017-01-03  32.521053       01-03  41.480984      -8.959931   \n",
       "3 2017-01-04  39.429787       01-04  40.857500      -1.427713   \n",
       "4 2017-01-05  37.154545       01-05  41.115435      -3.960889   \n",
       "\n",
       "   consumption_deviation month-day_y month day  weekday consumption_label  \n",
       "0                -25.521       01-01    01  01     True                 d  \n",
       "1                 39.706       01-02    01  02    False                 s  \n",
       "2                -29.565       01-03    01  03    False                 d  \n",
       "3                -61.049       01-04    01  04    False                 d  \n",
       "4                  2.193       01-05    01  05    False                 s  "
      ]
     },
     "execution_count": 8,
     "metadata": {},
     "output_type": "execute_result"
    }
   ],
   "source": [
    "all_data_set.loc[all_data_set['consumption_deviation'] >=0,'consumption_label'] = 's'\n",
    "all_data_set.loc[all_data_set['consumption_deviation'] <0,'consumption_label'] = 'd'\n",
    "all_data_set.head()"
   ]
  },
  {
   "cell_type": "code",
   "execution_count": 9,
   "metadata": {},
   "outputs": [
    {
     "data": {
      "text/plain": [
       "<matplotlib.collections.PathCollection at 0x116945490>"
      ]
     },
     "execution_count": 9,
     "metadata": {},
     "output_type": "execute_result"
    },
    {
     "data": {
      "image/png": "[encoded data removed]",
      "text/plain": [
       "<Figure size 432x288 with 1 Axes>"
      ]
     },
     "metadata": {
      "needs_background": "light"
     },
     "output_type": "display_data"
    }
   ],
   "source": [
    " plt.scatter(all_data_set['month-day_x'], all_data_set['consumption_deviation'])"
   ]
  },
  {
   "cell_type": "code",
   "execution_count": 10,
   "metadata": {},
   "outputs": [
    {
     "data": {
      "text/plain": [
       "<matplotlib.collections.PathCollection at 0x1169c37d0>"
      ]
     },
     "execution_count": 10,
     "metadata": {},
     "output_type": "execute_result"
    },
    {
     "data": {
      "image/png": "[encoded data removed]",
      "text/plain": [
       "<Figure size 432x288 with 1 Axes>"
      ]
     },
     "metadata": {
      "needs_background": "light"
     },
     "output_type": "display_data"
    }
   ],
   "source": [
    "plt.scatter(all_data_set['month-day_x'], all_data_set['tmp_deviation'])"
   ]
  },
  {
   "cell_type": "code",
   "execution_count": 11,
   "metadata": {},
   "outputs": [
    {
     "data": {
      "text/html": [
       "<div>\n",
       "<style scoped>\n",
       "    .dataframe tbody tr th:only-of-type {\n",
       "        vertical-align: middle;\n",
       "    }\n",
       "\n",
       "    .dataframe tbody tr th {\n",
       "        vertical-align: top;\n",
       "    }\n",
       "\n",
       "    .dataframe thead th {\n",
       "        text-align: right;\n",
       "    }\n",
       "</style>\n",
       "<table border=\"1\" class=\"dataframe\">\n",
       "  <thead>\n",
       "    <tr style=\"text-align: right;\">\n",
       "      <th></th>\n",
       "      <th>timestamp</th>\n",
       "      <th>temp2017</th>\n",
       "      <th>month-day_x</th>\n",
       "      <th>avg_tmp</th>\n",
       "      <th>tmp_deviation</th>\n",
       "      <th>consumption_deviation</th>\n",
       "      <th>month-day_y</th>\n",
       "      <th>month</th>\n",
       "      <th>day</th>\n",
       "      <th>weekday</th>\n",
       "      <th>consumption_label</th>\n",
       "    </tr>\n",
       "  </thead>\n",
       "  <tbody>\n",
       "    <tr>\n",
       "      <th>292</th>\n",
       "      <td>2017-10-20</td>\n",
       "      <td>57.3500</td>\n",
       "      <td>10-20</td>\n",
       "      <td>51.988886</td>\n",
       "      <td>5.361114</td>\n",
       "      <td>27.151</td>\n",
       "      <td>10-20</td>\n",
       "      <td>10</td>\n",
       "      <td>20</td>\n",
       "      <td>False</td>\n",
       "      <td>s</td>\n",
       "    </tr>\n",
       "    <tr>\n",
       "      <th>293</th>\n",
       "      <td>2017-10-21</td>\n",
       "      <td>57.8750</td>\n",
       "      <td>10-21</td>\n",
       "      <td>51.226649</td>\n",
       "      <td>6.648351</td>\n",
       "      <td>-0.240</td>\n",
       "      <td>10-21</td>\n",
       "      <td>10</td>\n",
       "      <td>21</td>\n",
       "      <td>True</td>\n",
       "      <td>d</td>\n",
       "    </tr>\n",
       "    <tr>\n",
       "      <th>294</th>\n",
       "      <td>2017-10-22</td>\n",
       "      <td>51.9125</td>\n",
       "      <td>10-22</td>\n",
       "      <td>51.053750</td>\n",
       "      <td>0.858750</td>\n",
       "      <td>1.240</td>\n",
       "      <td>10-22</td>\n",
       "      <td>10</td>\n",
       "      <td>22</td>\n",
       "      <td>True</td>\n",
       "      <td>s</td>\n",
       "    </tr>\n",
       "    <tr>\n",
       "      <th>295</th>\n",
       "      <td>2017-10-23</td>\n",
       "      <td>54.3500</td>\n",
       "      <td>10-23</td>\n",
       "      <td>51.509248</td>\n",
       "      <td>2.840752</td>\n",
       "      <td>48.078</td>\n",
       "      <td>10-23</td>\n",
       "      <td>10</td>\n",
       "      <td>23</td>\n",
       "      <td>False</td>\n",
       "      <td>s</td>\n",
       "    </tr>\n",
       "    <tr>\n",
       "      <th>296</th>\n",
       "      <td>2017-10-24</td>\n",
       "      <td>60.7625</td>\n",
       "      <td>10-24</td>\n",
       "      <td>52.214538</td>\n",
       "      <td>8.547962</td>\n",
       "      <td>24.880</td>\n",
       "      <td>10-24</td>\n",
       "      <td>10</td>\n",
       "      <td>24</td>\n",
       "      <td>False</td>\n",
       "      <td>s</td>\n",
       "    </tr>\n",
       "  </tbody>\n",
       "</table>\n",
       "</div>"
      ],
      "text/plain": [
       "     timestamp  temp2017 month-day_x    avg_tmp  tmp_deviation  \\\n",
       "292 2017-10-20   57.3500       10-20  51.988886       5.361114   \n",
       "293 2017-10-21   57.8750       10-21  51.226649       6.648351   \n",
       "294 2017-10-22   51.9125       10-22  51.053750       0.858750   \n",
       "295 2017-10-23   54.3500       10-23  51.509248       2.840752   \n",
       "296 2017-10-24   60.7625       10-24  52.214538       8.547962   \n",
       "\n",
       "     consumption_deviation month-day_y month day  weekday consumption_label  \n",
       "292                 27.151       10-20    10  20    False                 s  \n",
       "293                 -0.240       10-21    10  21     True                 d  \n",
       "294                  1.240       10-22    10  22     True                 s  \n",
       "295                 48.078       10-23    10  23    False                 s  \n",
       "296                 24.880       10-24    10  24    False                 s  "
      ]
     },
     "execution_count": 11,
     "metadata": {},
     "output_type": "execute_result"
    }
   ],
   "source": [
    "summer_data = all_data_set[(all_data_set['timestamp']>='2017-03-29') & (all_data_set['timestamp']<'2017-10-25')]\n",
    "summer_data.tail()"
   ]
  },
  {
   "cell_type": "code",
   "execution_count": 12,
   "metadata": {},
   "outputs": [
    {
     "data": {
      "text/plain": [
       "<matplotlib.axes._subplots.AxesSubplot at 0x1172ee090>"
      ]
     },
     "execution_count": 12,
     "metadata": {},
     "output_type": "execute_result"
    },
    {
     "data": {
      "image/png": "[encoded data removed]",
      "text/plain": [
       "<Figure size 432x288 with 1 Axes>"
      ]
     },
     "metadata": {
      "needs_background": "light"
     },
     "output_type": "display_data"
    }
   ],
   "source": [
    "summer_data[['tmp_deviation','consumption_deviation']].plot()"
   ]
  },
  {
   "cell_type": "code",
   "execution_count": 13,
   "metadata": {},
   "outputs": [
    {
     "data": {
      "text/html": [
       "<div>\n",
       "<style scoped>\n",
       "    .dataframe tbody tr th:only-of-type {\n",
       "        vertical-align: middle;\n",
       "    }\n",
       "\n",
       "    .dataframe tbody tr th {\n",
       "        vertical-align: top;\n",
       "    }\n",
       "\n",
       "    .dataframe thead th {\n",
       "        text-align: right;\n",
       "    }\n",
       "</style>\n",
       "<table border=\"1\" class=\"dataframe\">\n",
       "  <thead>\n",
       "    <tr style=\"text-align: right;\">\n",
       "      <th></th>\n",
       "      <th>timestamp</th>\n",
       "      <th>temp2017</th>\n",
       "      <th>month-day_x</th>\n",
       "      <th>avg_tmp</th>\n",
       "      <th>tmp_deviation</th>\n",
       "      <th>consumption_deviation</th>\n",
       "      <th>month-day_y</th>\n",
       "      <th>month</th>\n",
       "      <th>day</th>\n",
       "      <th>weekday</th>\n",
       "      <th>consumption_label</th>\n",
       "    </tr>\n",
       "  </thead>\n",
       "  <tbody>\n",
       "    <tr>\n",
       "      <th>0</th>\n",
       "      <td>2017-01-01</td>\n",
       "      <td>29.014634</td>\n",
       "      <td>01-01</td>\n",
       "      <td>41.215905</td>\n",
       "      <td>-12.201271</td>\n",
       "      <td>-25.521</td>\n",
       "      <td>01-01</td>\n",
       "      <td>01</td>\n",
       "      <td>01</td>\n",
       "      <td>True</td>\n",
       "      <td>d</td>\n",
       "    </tr>\n",
       "    <tr>\n",
       "      <th>1</th>\n",
       "      <td>2017-01-02</td>\n",
       "      <td>34.550000</td>\n",
       "      <td>01-02</td>\n",
       "      <td>40.504165</td>\n",
       "      <td>-5.954165</td>\n",
       "      <td>39.706</td>\n",
       "      <td>01-02</td>\n",
       "      <td>01</td>\n",
       "      <td>02</td>\n",
       "      <td>False</td>\n",
       "      <td>s</td>\n",
       "    </tr>\n",
       "    <tr>\n",
       "      <th>2</th>\n",
       "      <td>2017-01-03</td>\n",
       "      <td>32.521053</td>\n",
       "      <td>01-03</td>\n",
       "      <td>41.480984</td>\n",
       "      <td>-8.959931</td>\n",
       "      <td>-29.565</td>\n",
       "      <td>01-03</td>\n",
       "      <td>01</td>\n",
       "      <td>03</td>\n",
       "      <td>False</td>\n",
       "      <td>d</td>\n",
       "    </tr>\n",
       "    <tr>\n",
       "      <th>3</th>\n",
       "      <td>2017-01-04</td>\n",
       "      <td>39.429787</td>\n",
       "      <td>01-04</td>\n",
       "      <td>40.857500</td>\n",
       "      <td>-1.427713</td>\n",
       "      <td>-61.049</td>\n",
       "      <td>01-04</td>\n",
       "      <td>01</td>\n",
       "      <td>04</td>\n",
       "      <td>False</td>\n",
       "      <td>d</td>\n",
       "    </tr>\n",
       "    <tr>\n",
       "      <th>4</th>\n",
       "      <td>2017-01-05</td>\n",
       "      <td>37.154545</td>\n",
       "      <td>01-05</td>\n",
       "      <td>41.115435</td>\n",
       "      <td>-3.960889</td>\n",
       "      <td>2.193</td>\n",
       "      <td>01-05</td>\n",
       "      <td>01</td>\n",
       "      <td>05</td>\n",
       "      <td>False</td>\n",
       "      <td>s</td>\n",
       "    </tr>\n",
       "  </tbody>\n",
       "</table>\n",
       "</div>"
      ],
      "text/plain": [
       "   timestamp   temp2017 month-day_x    avg_tmp  tmp_deviation  \\\n",
       "0 2017-01-01  29.014634       01-01  41.215905     -12.201271   \n",
       "1 2017-01-02  34.550000       01-02  40.504165      -5.954165   \n",
       "2 2017-01-03  32.521053       01-03  41.480984      -8.959931   \n",
       "3 2017-01-04  39.429787       01-04  40.857500      -1.427713   \n",
       "4 2017-01-05  37.154545       01-05  41.115435      -3.960889   \n",
       "\n",
       "   consumption_deviation month-day_y month day  weekday consumption_label  \n",
       "0                -25.521       01-01    01  01     True                 d  \n",
       "1                 39.706       01-02    01  02    False                 s  \n",
       "2                -29.565       01-03    01  03    False                 d  \n",
       "3                -61.049       01-04    01  04    False                 d  \n",
       "4                  2.193       01-05    01  05    False                 s  "
      ]
     },
     "execution_count": 13,
     "metadata": {},
     "output_type": "execute_result"
    }
   ],
   "source": [
    "winter_data = all_data_set[(all_data_set['timestamp']<'2017-03-29') | (all_data_set['timestamp']>='2017-10-25')]\n",
    "winter_data.head()"
   ]
  },
  {
   "cell_type": "code",
   "execution_count": 14,
   "metadata": {},
   "outputs": [
    {
     "data": {
      "text/plain": [
       "<matplotlib.axes._subplots.AxesSubplot at 0x1174b7b90>"
      ]
     },
     "execution_count": 14,
     "metadata": {},
     "output_type": "execute_result"
    },
    {
     "data": {
      "image/png": "[encoded data removed]",
      "text/plain": [
       "<Figure size 1080x504 with 1 Axes>"
      ]
     },
     "metadata": {
      "needs_background": "light"
     },
     "output_type": "display_data"
    }
   ],
   "source": [
    "summer_data['tmp_deviation'].plot(kind='hist', figsize=(15,7))"
   ]
  },
  {
   "cell_type": "code",
   "execution_count": 15,
   "metadata": {},
   "outputs": [
    {
     "name": "stdout",
     "output_type": "stream",
     "text": [
      "<class 'pandas.core.frame.DataFrame'>\n",
      "Int64Index: 116 entries, 91 to 295\n",
      "Data columns (total 11 columns):\n",
      "timestamp                116 non-null datetime64[ns]\n",
      "temp2017                 116 non-null float64\n",
      "month-day_x              116 non-null object\n",
      "avg_tmp                  116 non-null float64\n",
      "tmp_deviation            116 non-null float64\n",
      "consumption_deviation    116 non-null float64\n",
      "month-day_y              116 non-null object\n",
      "month                    116 non-null object\n",
      "day                      116 non-null object\n",
      "weekday                  116 non-null bool\n",
      "consumption_label        116 non-null object\n",
      "dtypes: bool(1), datetime64[ns](1), float64(4), object(5)\n",
      "memory usage: 10.1+ KB\n"
     ]
    }
   ],
   "source": [
    "moderate_summer_deviation = summer_data[(summer_data['tmp_deviation'] >=-5) & (summer_data['tmp_deviation']<=5)]\n",
    "moderate_summer_deviation.info()"
   ]
  },
  {
   "cell_type": "code",
   "execution_count": 21,
   "metadata": {},
   "outputs": [
    {
     "name": "stdout",
     "output_type": "stream",
     "text": [
      "<class 'pandas.core.frame.DataFrame'>\n",
      "Int64Index: 94 entries, 87 to 296\n",
      "Data columns (total 11 columns):\n",
      "timestamp                94 non-null datetime64[ns]\n",
      "temp2017                 94 non-null float64\n",
      "month-day_x              94 non-null object\n",
      "avg_tmp                  94 non-null float64\n",
      "tmp_deviation            94 non-null float64\n",
      "consumption_deviation    94 non-null float64\n",
      "month-day_y              94 non-null object\n",
      "month                    94 non-null object\n",
      "day                      94 non-null object\n",
      "weekday                  94 non-null bool\n",
      "consumption_label        94 non-null object\n",
      "dtypes: bool(1), datetime64[ns](1), float64(4), object(5)\n",
      "memory usage: 8.2+ KB\n"
     ]
    }
   ],
   "source": [
    "extreme_summer_deviation = summer_data[(summer_data['tmp_deviation'] <-5) | (summer_data['tmp_deviation']>5)]\n",
    "extreme_summer_deviation.info()"
   ]
  },
  {
   "cell_type": "code",
   "execution_count": 23,
   "metadata": {},
   "outputs": [
    {
     "name": "stdout",
     "output_type": "stream",
     "text": [
      "<class 'pandas.core.frame.DataFrame'>\n",
      "Int64Index: 91 entries, 3 to 362\n",
      "Data columns (total 11 columns):\n",
      "timestamp                91 non-null datetime64[ns]\n",
      "temp2017                 91 non-null float64\n",
      "month-day_x              91 non-null object\n",
      "avg_tmp                  91 non-null float64\n",
      "tmp_deviation            91 non-null float64\n",
      "consumption_deviation    91 non-null float64\n",
      "month-day_y              91 non-null object\n",
      "month                    91 non-null object\n",
      "day                      91 non-null object\n",
      "weekday                  91 non-null bool\n",
      "consumption_label        91 non-null object\n",
      "dtypes: bool(1), datetime64[ns](1), float64(4), object(5)\n",
      "memory usage: 7.9+ KB\n"
     ]
    }
   ],
   "source": [
    "moderate_winter_deviation = winter_data[(winter_data['tmp_deviation'] >=-5) & (winter_data['tmp_deviation']<=5)]\n",
    "moderate_winter_deviation.info()"
   ]
  },
  {
   "cell_type": "code",
   "execution_count": 22,
   "metadata": {},
   "outputs": [
    {
     "name": "stdout",
     "output_type": "stream",
     "text": [
      "<class 'pandas.core.frame.DataFrame'>\n",
      "Int64Index: 64 entries, 0 to 364\n",
      "Data columns (total 11 columns):\n",
      "timestamp                64 non-null datetime64[ns]\n",
      "temp2017                 64 non-null float64\n",
      "month-day_x              64 non-null object\n",
      "avg_tmp                  64 non-null float64\n",
      "tmp_deviation            64 non-null float64\n",
      "consumption_deviation    64 non-null float64\n",
      "month-day_y              64 non-null object\n",
      "month                    64 non-null object\n",
      "day                      64 non-null object\n",
      "weekday                  64 non-null bool\n",
      "consumption_label        64 non-null object\n",
      "dtypes: bool(1), datetime64[ns](1), float64(4), object(5)\n",
      "memory usage: 5.6+ KB\n"
     ]
    }
   ],
   "source": [
    "extreme_winter_deviation = winter_data[(winter_data['tmp_deviation'] <-5) | (winter_data['tmp_deviation']>5)]\n",
    "extreme_winter_deviation.info()"
   ]
  },
  {
   "cell_type": "code",
   "execution_count": 19,
   "metadata": {},
   "outputs": [
    {
     "name": "stdout",
     "output_type": "stream",
     "text": [
      "Stored 'moderate_summer_deviation' (DataFrame)\n",
      "Stored 'extreme_summer_deviation' (DataFrame)\n",
      "Stored 'moderate_winter_deviation' (DataFrame)\n",
      "Stored 'extreme_winter_deviation' (DataFrame)\n"
     ]
    }
   ],
   "source": [
    "%store moderate_summer_deviation extreme_summer_deviation moderate_winter_deviation extreme_winter_deviation"
   ]
  },
  {
   "cell_type": "code",
   "execution_count": 20,
   "metadata": {},
   "outputs": [
    {
     "name": "stdout",
     "output_type": "stream",
     "text": [
      "Stored 'winter_data' (DataFrame)\n",
      "Stored 'summer_data' (DataFrame)\n"
     ]
    }
   ],
   "source": [
    "%store winter_data summer_data"
   ]
  },
  {
   "cell_type": "code",
   "execution_count": null,
   "metadata": {},
   "outputs": [],
   "source": []
  }
 ],
 "metadata": {
  "kernelspec": {
   "display_name": "Python 3",
   "language": "python",
   "name": "python3"
  },
  "language_info": {
   "codemirror_mode": {
    "name": "ipython",
    "version": 3
   },
   "file_extension": ".py",
   "mimetype": "text/x-python",
   "name": "python",
   "nbconvert_exporter": "python",
   "pygments_lexer": "ipython3",
   "version": "3.7.4"
  }
 },
 "nbformat": 4,
 "nbformat_minor": 4
}
